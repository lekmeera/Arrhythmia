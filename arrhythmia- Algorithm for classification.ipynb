{
 "cells": [
  {
   "cell_type": "code",
   "execution_count": 1,
   "metadata": {},
   "outputs": [],
   "source": [
    "#---------------\n",
    "#files imported\n",
    "#--------------\n",
    "\n",
    "import pandas as pd\n",
    "import numpy as np\n",
    "import matplotlib.pyplot as plt\n",
    "%matplotlib inline\n",
    "import seaborn as sns"
   ]
  },
  {
   "cell_type": "code",
   "execution_count": 2,
   "metadata": {},
   "outputs": [],
   "source": [
    "#-----------------\n",
    "#Reading datafile\n",
    "#----------------\n",
    "\n",
    "arr = pd.read_csv(\"Arrhythmiafs.csv\")"
   ]
  },
  {
   "cell_type": "code",
   "execution_count": 3,
   "metadata": {
    "scrolled": true
   },
   "outputs": [
    {
     "data": {
      "text/html": [
       "<div>\n",
       "<style scoped>\n",
       "    .dataframe tbody tr th:only-of-type {\n",
       "        vertical-align: middle;\n",
       "    }\n",
       "\n",
       "    .dataframe tbody tr th {\n",
       "        vertical-align: top;\n",
       "    }\n",
       "\n",
       "    .dataframe thead th {\n",
       "        text-align: right;\n",
       "    }\n",
       "</style>\n",
       "<table border=\"1\" class=\"dataframe\">\n",
       "  <thead>\n",
       "    <tr style=\"text-align: right;\">\n",
       "      <th></th>\n",
       "      <th>Age</th>\n",
       "      <th>Sex</th>\n",
       "      <th>Height</th>\n",
       "      <th>Weight</th>\n",
       "      <th>QRS duration</th>\n",
       "      <th>P-R interval</th>\n",
       "      <th>Q-T interval</th>\n",
       "      <th>T interval</th>\n",
       "      <th>P interval</th>\n",
       "      <th>QRS</th>\n",
       "      <th>...</th>\n",
       "      <th>V6_Q.milivolt wave</th>\n",
       "      <th>V6_R.milivolt wave</th>\n",
       "      <th>V6_S.milivolt wave</th>\n",
       "      <th>V6_R_.milivolt wave</th>\n",
       "      <th>V6_S_.milivolt wave</th>\n",
       "      <th>V6_P.milivolt wave</th>\n",
       "      <th>V6_T.milivolt wave</th>\n",
       "      <th>V6_QRSA.milivolt</th>\n",
       "      <th>V6_QRSTA.milivolt</th>\n",
       "      <th>Class Distribution</th>\n",
       "    </tr>\n",
       "  </thead>\n",
       "  <tbody>\n",
       "    <tr>\n",
       "      <td>0</td>\n",
       "      <td>75</td>\n",
       "      <td>0</td>\n",
       "      <td>190</td>\n",
       "      <td>80</td>\n",
       "      <td>91</td>\n",
       "      <td>193</td>\n",
       "      <td>371</td>\n",
       "      <td>174</td>\n",
       "      <td>121</td>\n",
       "      <td>-16</td>\n",
       "      <td>...</td>\n",
       "      <td>0.0</td>\n",
       "      <td>9.0</td>\n",
       "      <td>-0.9</td>\n",
       "      <td>0.0</td>\n",
       "      <td>0</td>\n",
       "      <td>0.9</td>\n",
       "      <td>2.9</td>\n",
       "      <td>23.3</td>\n",
       "      <td>49.4</td>\n",
       "      <td>2</td>\n",
       "    </tr>\n",
       "    <tr>\n",
       "      <td>1</td>\n",
       "      <td>56</td>\n",
       "      <td>1</td>\n",
       "      <td>165</td>\n",
       "      <td>64</td>\n",
       "      <td>81</td>\n",
       "      <td>174</td>\n",
       "      <td>401</td>\n",
       "      <td>149</td>\n",
       "      <td>39</td>\n",
       "      <td>25</td>\n",
       "      <td>...</td>\n",
       "      <td>0.0</td>\n",
       "      <td>8.5</td>\n",
       "      <td>0.0</td>\n",
       "      <td>0.0</td>\n",
       "      <td>0</td>\n",
       "      <td>0.2</td>\n",
       "      <td>2.1</td>\n",
       "      <td>20.4</td>\n",
       "      <td>38.8</td>\n",
       "      <td>2</td>\n",
       "    </tr>\n",
       "    <tr>\n",
       "      <td>2</td>\n",
       "      <td>54</td>\n",
       "      <td>0</td>\n",
       "      <td>172</td>\n",
       "      <td>95</td>\n",
       "      <td>138</td>\n",
       "      <td>163</td>\n",
       "      <td>386</td>\n",
       "      <td>185</td>\n",
       "      <td>102</td>\n",
       "      <td>96</td>\n",
       "      <td>...</td>\n",
       "      <td>0.0</td>\n",
       "      <td>9.5</td>\n",
       "      <td>-2.4</td>\n",
       "      <td>0.0</td>\n",
       "      <td>0</td>\n",
       "      <td>0.3</td>\n",
       "      <td>3.4</td>\n",
       "      <td>12.3</td>\n",
       "      <td>49.0</td>\n",
       "      <td>2</td>\n",
       "    </tr>\n",
       "    <tr>\n",
       "      <td>3</td>\n",
       "      <td>55</td>\n",
       "      <td>0</td>\n",
       "      <td>175</td>\n",
       "      <td>94</td>\n",
       "      <td>100</td>\n",
       "      <td>202</td>\n",
       "      <td>380</td>\n",
       "      <td>179</td>\n",
       "      <td>143</td>\n",
       "      <td>28</td>\n",
       "      <td>...</td>\n",
       "      <td>0.0</td>\n",
       "      <td>12.2</td>\n",
       "      <td>-2.2</td>\n",
       "      <td>0.0</td>\n",
       "      <td>0</td>\n",
       "      <td>0.4</td>\n",
       "      <td>2.6</td>\n",
       "      <td>34.6</td>\n",
       "      <td>61.6</td>\n",
       "      <td>1</td>\n",
       "    </tr>\n",
       "    <tr>\n",
       "      <td>4</td>\n",
       "      <td>75</td>\n",
       "      <td>0</td>\n",
       "      <td>190</td>\n",
       "      <td>80</td>\n",
       "      <td>88</td>\n",
       "      <td>181</td>\n",
       "      <td>360</td>\n",
       "      <td>177</td>\n",
       "      <td>103</td>\n",
       "      <td>-16</td>\n",
       "      <td>...</td>\n",
       "      <td>0.0</td>\n",
       "      <td>13.1</td>\n",
       "      <td>-3.6</td>\n",
       "      <td>0.0</td>\n",
       "      <td>0</td>\n",
       "      <td>-0.1</td>\n",
       "      <td>3.9</td>\n",
       "      <td>25.4</td>\n",
       "      <td>62.8</td>\n",
       "      <td>2</td>\n",
       "    </tr>\n",
       "  </tbody>\n",
       "</table>\n",
       "<p>5 rows × 280 columns</p>\n",
       "</div>"
      ],
      "text/plain": [
       "   Age  Sex  Height  Weight  QRS duration  P-R interval  Q-T interval  \\\n",
       "0   75    0     190      80            91           193           371   \n",
       "1   56    1     165      64            81           174           401   \n",
       "2   54    0     172      95           138           163           386   \n",
       "3   55    0     175      94           100           202           380   \n",
       "4   75    0     190      80            88           181           360   \n",
       "\n",
       "   T interval  P interval  QRS  ...  V6_Q.milivolt wave  V6_R.milivolt wave  \\\n",
       "0         174         121  -16  ...                 0.0                 9.0   \n",
       "1         149          39   25  ...                 0.0                 8.5   \n",
       "2         185         102   96  ...                 0.0                 9.5   \n",
       "3         179         143   28  ...                 0.0                12.2   \n",
       "4         177         103  -16  ...                 0.0                13.1   \n",
       "\n",
       "   V6_S.milivolt wave  V6_R_.milivolt wave  V6_S_.milivolt wave  \\\n",
       "0                -0.9                  0.0                    0   \n",
       "1                 0.0                  0.0                    0   \n",
       "2                -2.4                  0.0                    0   \n",
       "3                -2.2                  0.0                    0   \n",
       "4                -3.6                  0.0                    0   \n",
       "\n",
       "   V6_P.milivolt wave  V6_T.milivolt wave  V6_QRSA.milivolt  \\\n",
       "0                 0.9                 2.9              23.3   \n",
       "1                 0.2                 2.1              20.4   \n",
       "2                 0.3                 3.4              12.3   \n",
       "3                 0.4                 2.6              34.6   \n",
       "4                -0.1                 3.9              25.4   \n",
       "\n",
       "   V6_QRSTA.milivolt  Class Distribution  \n",
       "0               49.4                   2  \n",
       "1               38.8                   2  \n",
       "2               49.0                   2  \n",
       "3               61.6                   1  \n",
       "4               62.8                   2  \n",
       "\n",
       "[5 rows x 280 columns]"
      ]
     },
     "execution_count": 3,
     "metadata": {},
     "output_type": "execute_result"
    }
   ],
   "source": [
    "arr.head()"
   ]
  },
  {
   "cell_type": "code",
   "execution_count": 4,
   "metadata": {
    "scrolled": false
   },
   "outputs": [
    {
     "data": {
      "text/plain": [
       "1    245\n",
       "2    207\n",
       "Name: Class Distribution, dtype: int64"
      ]
     },
     "execution_count": 4,
     "metadata": {},
     "output_type": "execute_result"
    }
   ],
   "source": [
    "arr['Class Distribution'].value_counts()"
   ]
  },
  {
   "cell_type": "code",
   "execution_count": 5,
   "metadata": {},
   "outputs": [],
   "source": [
    "#---------------------------------------------------------------------\n",
    "#Selecting 15 appropriate features using the feature selection process\n",
    "#---------------------------------------------------------------------\n",
    "\n",
    "arrs = arr[['Heart rate','V6_T.milivolt wave','V2.msec-R_ wave','V1.msec-R_ wave','V1.msec-Number of intrinsic deflections',\n",
    "            'V3.msec-Q wave','V1_R_.milivolt wave','AVF.msec-Q wave','CDII_QRSTA.milivolt','V3_R.milivolt wave','T.milivolt wave',\n",
    "            'QRSTA.milivolt','V3_QRSTA.milivolt','V6_JJ.milivolt wave','AVL_T.milivolt wave','Class Distribution']]"
   ]
  },
  {
   "cell_type": "code",
   "execution_count": 6,
   "metadata": {},
   "outputs": [],
   "source": [
    "#--------------------\n",
    "#splitting attributes\n",
    "#--------------------\n",
    "\n",
    "x = arrs.drop(columns=['Class Distribution'])\n",
    "y = arrs['Class Distribution']"
   ]
  },
  {
   "cell_type": "code",
   "execution_count": 7,
   "metadata": {},
   "outputs": [
    {
     "data": {
      "text/html": [
       "<div>\n",
       "<style scoped>\n",
       "    .dataframe tbody tr th:only-of-type {\n",
       "        vertical-align: middle;\n",
       "    }\n",
       "\n",
       "    .dataframe tbody tr th {\n",
       "        vertical-align: top;\n",
       "    }\n",
       "\n",
       "    .dataframe thead th {\n",
       "        text-align: right;\n",
       "    }\n",
       "</style>\n",
       "<table border=\"1\" class=\"dataframe\">\n",
       "  <thead>\n",
       "    <tr style=\"text-align: right;\">\n",
       "      <th></th>\n",
       "      <th>Heart rate</th>\n",
       "      <th>V6_T.milivolt wave</th>\n",
       "      <th>V2.msec-R_ wave</th>\n",
       "      <th>V1.msec-R_ wave</th>\n",
       "      <th>V1.msec-Number of intrinsic deflections</th>\n",
       "      <th>V3.msec-Q wave</th>\n",
       "      <th>V1_R_.milivolt wave</th>\n",
       "      <th>AVF.msec-Q wave</th>\n",
       "      <th>CDII_QRSTA.milivolt</th>\n",
       "      <th>V3_R.milivolt wave</th>\n",
       "      <th>T.milivolt wave</th>\n",
       "      <th>QRSTA.milivolt</th>\n",
       "      <th>V3_QRSTA.milivolt</th>\n",
       "      <th>V6_JJ.milivolt wave</th>\n",
       "      <th>AVL_T.milivolt wave</th>\n",
       "    </tr>\n",
       "  </thead>\n",
       "  <tbody>\n",
       "    <tr>\n",
       "      <td>0</td>\n",
       "      <td>63.000000</td>\n",
       "      <td>2.9</td>\n",
       "      <td>0</td>\n",
       "      <td>0</td>\n",
       "      <td>0</td>\n",
       "      <td>0</td>\n",
       "      <td>0.0</td>\n",
       "      <td>48</td>\n",
       "      <td>14.5</td>\n",
       "      <td>8.4</td>\n",
       "      <td>2.1</td>\n",
       "      <td>30.8</td>\n",
       "      <td>52.7</td>\n",
       "      <td>-0.3</td>\n",
       "      <td>1.2</td>\n",
       "    </tr>\n",
       "    <tr>\n",
       "      <td>1</td>\n",
       "      <td>53.000000</td>\n",
       "      <td>2.1</td>\n",
       "      <td>0</td>\n",
       "      <td>0</td>\n",
       "      <td>16</td>\n",
       "      <td>0</td>\n",
       "      <td>0.0</td>\n",
       "      <td>0</td>\n",
       "      <td>29.5</td>\n",
       "      <td>5.8</td>\n",
       "      <td>1.5</td>\n",
       "      <td>26.5</td>\n",
       "      <td>27.7</td>\n",
       "      <td>-0.5</td>\n",
       "      <td>0.7</td>\n",
       "    </tr>\n",
       "    <tr>\n",
       "      <td>2</td>\n",
       "      <td>75.000000</td>\n",
       "      <td>3.4</td>\n",
       "      <td>60</td>\n",
       "      <td>76</td>\n",
       "      <td>100</td>\n",
       "      <td>0</td>\n",
       "      <td>6.5</td>\n",
       "      <td>0</td>\n",
       "      <td>37.9</td>\n",
       "      <td>5.8</td>\n",
       "      <td>2.5</td>\n",
       "      <td>19.8</td>\n",
       "      <td>23.3</td>\n",
       "      <td>0.9</td>\n",
       "      <td>1.0</td>\n",
       "    </tr>\n",
       "    <tr>\n",
       "      <td>3</td>\n",
       "      <td>71.000000</td>\n",
       "      <td>2.6</td>\n",
       "      <td>0</td>\n",
       "      <td>0</td>\n",
       "      <td>0</td>\n",
       "      <td>0</td>\n",
       "      <td>0.0</td>\n",
       "      <td>0</td>\n",
       "      <td>36.8</td>\n",
       "      <td>9.0</td>\n",
       "      <td>1.9</td>\n",
       "      <td>45.1</td>\n",
       "      <td>51.0</td>\n",
       "      <td>0.1</td>\n",
       "      <td>1.2</td>\n",
       "    </tr>\n",
       "    <tr>\n",
       "      <td>4</td>\n",
       "      <td>74.463415</td>\n",
       "      <td>3.9</td>\n",
       "      <td>0</td>\n",
       "      <td>0</td>\n",
       "      <td>0</td>\n",
       "      <td>0</td>\n",
       "      <td>0.0</td>\n",
       "      <td>44</td>\n",
       "      <td>18.9</td>\n",
       "      <td>8.5</td>\n",
       "      <td>2.3</td>\n",
       "      <td>31.6</td>\n",
       "      <td>43.0</td>\n",
       "      <td>-0.4</td>\n",
       "      <td>1.1</td>\n",
       "    </tr>\n",
       "  </tbody>\n",
       "</table>\n",
       "</div>"
      ],
      "text/plain": [
       "   Heart rate  V6_T.milivolt wave  V2.msec-R_ wave  V1.msec-R_ wave  \\\n",
       "0   63.000000                 2.9                0                0   \n",
       "1   53.000000                 2.1                0                0   \n",
       "2   75.000000                 3.4               60               76   \n",
       "3   71.000000                 2.6                0                0   \n",
       "4   74.463415                 3.9                0                0   \n",
       "\n",
       "   V1.msec-Number of intrinsic deflections  V3.msec-Q wave  \\\n",
       "0                                        0               0   \n",
       "1                                       16               0   \n",
       "2                                      100               0   \n",
       "3                                        0               0   \n",
       "4                                        0               0   \n",
       "\n",
       "   V1_R_.milivolt wave  AVF.msec-Q wave  CDII_QRSTA.milivolt  \\\n",
       "0                  0.0               48                 14.5   \n",
       "1                  0.0                0                 29.5   \n",
       "2                  6.5                0                 37.9   \n",
       "3                  0.0                0                 36.8   \n",
       "4                  0.0               44                 18.9   \n",
       "\n",
       "   V3_R.milivolt wave  T.milivolt wave  QRSTA.milivolt  V3_QRSTA.milivolt  \\\n",
       "0                 8.4              2.1            30.8               52.7   \n",
       "1                 5.8              1.5            26.5               27.7   \n",
       "2                 5.8              2.5            19.8               23.3   \n",
       "3                 9.0              1.9            45.1               51.0   \n",
       "4                 8.5              2.3            31.6               43.0   \n",
       "\n",
       "   V6_JJ.milivolt wave  AVL_T.milivolt wave  \n",
       "0                 -0.3                  1.2  \n",
       "1                 -0.5                  0.7  \n",
       "2                  0.9                  1.0  \n",
       "3                  0.1                  1.2  \n",
       "4                 -0.4                  1.1  "
      ]
     },
     "execution_count": 7,
     "metadata": {},
     "output_type": "execute_result"
    }
   ],
   "source": [
    "x.head()"
   ]
  },
  {
   "cell_type": "code",
   "execution_count": 8,
   "metadata": {},
   "outputs": [
    {
     "data": {
      "text/plain": [
       "0    2\n",
       "1    2\n",
       "2    2\n",
       "3    1\n",
       "4    2\n",
       "Name: Class Distribution, dtype: int64"
      ]
     },
     "execution_count": 8,
     "metadata": {},
     "output_type": "execute_result"
    }
   ],
   "source": [
    "y.head()"
   ]
  },
  {
   "cell_type": "code",
   "execution_count": 9,
   "metadata": {},
   "outputs": [],
   "source": [
    "#-----------------------------------------------\n",
    "#train -test split by using the proportion 70:30\n",
    "#-----------------------------------------------\n",
    "\n",
    "from sklearn.model_selection import train_test_split\n",
    "from sklearn.preprocessing import StandardScaler\n",
    "\n",
    "x_train,x_test,y_train,y_test = train_test_split(x,y,test_size=0.33)"
   ]
  },
  {
   "cell_type": "code",
   "execution_count": 10,
   "metadata": {},
   "outputs": [],
   "source": [
    "stdsclr = StandardScaler()\n",
    "x_trains = stdsclr.fit_transform(x_train)\n",
    "x_tests = stdsclr.fit_transform(x_test)"
   ]
  },
  {
   "cell_type": "code",
   "execution_count": 11,
   "metadata": {},
   "outputs": [
    {
     "data": {
      "text/plain": [
       "(302, 15)"
      ]
     },
     "execution_count": 11,
     "metadata": {},
     "output_type": "execute_result"
    }
   ],
   "source": [
    "x_trains.shape"
   ]
  },
  {
   "cell_type": "code",
   "execution_count": 12,
   "metadata": {
    "scrolled": true
   },
   "outputs": [
    {
     "data": {
      "text/plain": [
       "(150,)"
      ]
     },
     "execution_count": 12,
     "metadata": {},
     "output_type": "execute_result"
    }
   ],
   "source": [
    "y_test.shape"
   ]
  },
  {
   "cell_type": "code",
   "execution_count": 13,
   "metadata": {},
   "outputs": [],
   "source": [
    "#--------------------------\n",
    "#finding accuracy using SVM\n",
    "#--------------------------\n",
    "\n",
    "from sklearn.svm import SVC"
   ]
  },
  {
   "cell_type": "code",
   "execution_count": 14,
   "metadata": {},
   "outputs": [
    {
     "data": {
      "text/plain": [
       "0.78"
      ]
     },
     "execution_count": 14,
     "metadata": {},
     "output_type": "execute_result"
    }
   ],
   "source": [
    "modelsvc = SVC()\n",
    "modelsvc.fit(x_trains,y_train)\n",
    "modelsvc.score(x_tests,y_test)"
   ]
  }
 ],
 "metadata": {
  "kernelspec": {
   "display_name": "Python 3",
   "language": "python",
   "name": "python3"
  },
  "language_info": {
   "codemirror_mode": {
    "name": "ipython",
    "version": 3
   },
   "file_extension": ".py",
   "mimetype": "text/x-python",
   "name": "python",
   "nbconvert_exporter": "python",
   "pygments_lexer": "ipython3",
   "version": "3.7.4"
  }
 },
 "nbformat": 4,
 "nbformat_minor": 2
}
